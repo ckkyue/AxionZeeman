{
 "cells": [
  {
   "cell_type": "markdown",
   "metadata": {},
   "source": [
    "cd Desktop/Axion\\ Zeeman/AxionZeeman ; git add . ; git commit -m \"In progress\" ; git push origin main\n",
    "\n",
    "cd Library/Mathematica/FrontEnd ; rm init.m"
   ]
  },
  {
   "cell_type": "code",
   "execution_count": 1,
   "metadata": {},
   "outputs": [],
   "source": [
    "B1DrCSph2 = r\"-\\frac{8 a \\text{BbarYP} \\sqrt{\\rho } \\text{rC}^2 \\epsilon  \\sin (m \\text{rC}) \\cos (m (\\text{rP}-t)+\\text{$\\phi $P})}{m \\text{rP} \\left(a \\text{rC}^2+1\\right)^6}\"\n",
    "B1DrCSph3 = r\"\\frac{8 a \\text{BbarYP} \\sqrt{\\rho } \\text{rC}^2 \\epsilon  \\cos (\\text{$\\theta $P}) \\sin (m \\text{rC}) \\sin (m (\\text{rP}-t)+\\text{$\\phi $P})}{m \\text{rP} \\left(a \\text{rC}^2+1\\right)^6}\"\n",
    "B1DrPCubic2 = r\"\\frac{3 \\text{BbarYP} \\epsilon  \\sqrt{\\frac{\\rho }{\\left(a \\text{rC}^2+1\\right)^8}} \\sin (m \\text{rC}) \\cos (m (\\text{rP}-t)+\\text{$\\phi $P})}{2 m \\text{rP}}\"\n",
    "B1DrPCubic3 = r\"-\\frac{3 \\text{BbarYP} \\epsilon  \\cos (\\text{$\\theta $P}) \\sqrt{\\frac{\\rho }{\\left(a \\text{rC}^2+1\\right)^8}} \\sin (m \\text{rC}) \\sin (m (\\text{rP}-t)+\\text{$\\phi $P})}{2 m \\text{rP}}\""
   ]
  },
  {
   "cell_type": "code",
   "execution_count": 6,
   "metadata": {},
   "outputs": [],
   "source": [
    "E1DrCSph2 = r\"-\\frac{\\sqrt{\\rho } \\text{rC} \\epsilon  \\cos (m \\text{rC}) \\cos (m (\\text{rP}-t)+\\text{$\\phi $P})}{\\sqrt{2} \\text{rP} \\left(a \\text{rC}^2+1\\right)^4}\"\n",
    "E1DrCSph3 = r\"\\frac{\\sqrt{\\rho } \\text{rC} \\epsilon  \\cos (\\text{$\\theta $P}) \\cos (m \\text{rC}) \\sin (m (\\text{rP}-t)+\\text{$\\phi $P})}{\\sqrt{2} \\text{rP} \\left(a \\text{rC}^2+1\\right)^4}\"\n",
    "E1DrPCubicSph2 = r\"\\frac{\\text{rC} \\epsilon  \\sqrt{\\frac{\\rho }{\\left(a \\text{rC}^2+1\\right)^8}} \\left(-2 \\sqrt{\\frac{\\text{rC}}{\\text{rP}}} \\cos (m t-\\text{$\\phi $P})+\\cos (m (\\text{rC}-\\text{rP}+t)-\\text{$\\phi $P})+\\cos (m (\\text{rC}+\\text{rP}-t)+\\text{$\\phi $P})\\right)}{2 \\sqrt{2} \\text{rP}}\"\n",
    "E1DrPCubicSph3 = r\"-\\frac{\\text{rC} \\epsilon  \\cos (\\text{$\\theta $P}) \\sqrt{\\frac{\\rho }{\\left(a \\text{rC}^2+1\\right)^8}} \\left(\\sqrt{\\frac{\\text{rC}}{\\text{rP}}} \\sin (m t-\\text{$\\phi $P})+\\cos (m \\text{rC}) \\sin (m (\\text{rP}-t)+\\text{$\\phi $P})\\right)}{\\sqrt{2} \\text{rP}}\""
   ]
  },
  {
   "cell_type": "code",
   "execution_count": 9,
   "metadata": {},
   "outputs": [],
   "source": [
    "# Format the LaTeX string\n",
    "def format_latex_string(input_str, replacements):\n",
    "    # Initialize the string\n",
    "    latex_str = input_str\n",
    "\n",
    "    for key, value in replacements.items():\n",
    "        latex_str = latex_str.replace(key, value)\n",
    "\n",
    "    # Remove all whitespace\n",
    "    latex_str = latex_str.replace(\" \", \"\")\n",
    "\n",
    "    return latex_str\n",
    "\n",
    "# Define the replacements\n",
    "replacements = {\n",
    "    r\"\\text{BbarYP}\": \"\",\n",
    "    r\"\\epsilon\": r\"\\e\",\n",
    "    \"m\": \"m_{D}\",\n",
    "    r\"\\text{rC}\": r\"r_{c}\",\n",
    "    r\"\\text{rP}\": r\"r_{p}\",\n",
    "    r\"\\text{$\\theta $P}\": r\"\\theta_{p}\",\n",
    "    r\"\\text{$\\phi $P}\": r\"\\phi_{p}\"\n",
    "}"
   ]
  },
  {
   "cell_type": "code",
   "execution_count": 10,
   "metadata": {},
   "outputs": [
    {
     "name": "stdout",
     "output_type": "stream",
     "text": [
      "-\\frac{8a\\sqrt{\\rho}r_{c}^2\\e\\sin(m_{D}r_{c})\\cos(m_{D}(r_{p}-t)+\\phi_{p})}{m_{D}r_{p}\\left(ar_{c}^2+1\\right)^6}\n",
      "\\frac{8a\\sqrt{\\rho}r_{c}^2\\e\\cos(\\theta_{p})\\sin(m_{D}r_{c})\\sin(m_{D}(r_{p}-t)+\\phi_{p})}{m_{D}r_{p}\\left(ar_{c}^2+1\\right)^6}\n",
      "\\frac{3\\e\\sqrt{\\frac{\\rho}{\\left(ar_{c}^2+1\\right)^8}}\\sin(m_{D}r_{c})\\cos(m_{D}(r_{p}-t)+\\phi_{p})}{2m_{D}r_{p}}\n",
      "-\\frac{3\\e\\cos(\\theta_{p})\\sqrt{\\frac{\\rho}{\\left(ar_{c}^2+1\\right)^8}}\\sin(m_{D}r_{c})\\sin(m_{D}(r_{p}-t)+\\phi_{p})}{2m_{D}r_{p}}\n"
     ]
    }
   ],
   "source": [
    "# Iterate over all components of the magnetic field\n",
    "for input_str in [B1DrCSph2, B1DrCSph3, B1DrPCubic2, B1DrPCubic3]:\n",
    "    latex_str = format_latex_string(input_str, replacements)\n",
    "    print(latex_str)"
   ]
  },
  {
   "cell_type": "code",
   "execution_count": 11,
   "metadata": {},
   "outputs": [
    {
     "name": "stdout",
     "output_type": "stream",
     "text": [
      "-\\frac{\\sqrt{\\rho}r_{c}\\e\\cos(m_{D}r_{c})\\cos(m_{D}(r_{p}-t)+\\phi_{p})}{\\sqrt{2}r_{p}\\left(ar_{c}^2+1\\right)^4}\n",
      "\\frac{\\sqrt{\\rho}r_{c}\\e\\cos(\\theta_{p})\\cos(m_{D}r_{c})\\sin(m_{D}(r_{p}-t)+\\phi_{p})}{\\sqrt{2}r_{p}\\left(ar_{c}^2+1\\right)^4}\n",
      "\\frac{r_{c}\\e\\sqrt{\\frac{\\rho}{\\left(ar_{c}^2+1\\right)^8}}\\left(-2\\sqrt{\\frac{r_{c}}{r_{p}}}\\cos(m_{D}t-\\phi_{p})+\\cos(m_{D}(r_{c}-r_{p}+t)-\\phi_{p})+\\cos(m_{D}(r_{c}+r_{p}-t)+\\phi_{p})\\right)}{2\\sqrt{2}r_{p}}\n",
      "-\\frac{r_{c}\\e\\cos(\\theta_{p})\\sqrt{\\frac{\\rho}{\\left(ar_{c}^2+1\\right)^8}}\\left(\\sqrt{\\frac{r_{c}}{r_{p}}}\\sin(m_{D}t-\\phi_{p})+\\cos(m_{D}r_{c})\\sin(m_{D}(r_{p}-t)+\\phi_{p})\\right)}{\\sqrt{2}r_{p}}\n"
     ]
    }
   ],
   "source": [
    "# Iterate over all components of the electric field\n",
    "for input_str in [E1DrCSph2, E1DrCSph3, E1DrPCubicSph2, E1DrPCubicSph3]:\n",
    "    latex_str = format_latex_string(input_str, replacements)\n",
    "    print(latex_str)"
   ]
  }
 ],
 "metadata": {
  "kernelspec": {
   "display_name": "Python 3",
   "language": "python",
   "name": "python3"
  },
  "language_info": {
   "codemirror_mode": {
    "name": "ipython",
    "version": 3
   },
   "file_extension": ".py",
   "mimetype": "text/x-python",
   "name": "python",
   "nbconvert_exporter": "python",
   "pygments_lexer": "ipython3",
   "version": "3.10.2"
  }
 },
 "nbformat": 4,
 "nbformat_minor": 2
}

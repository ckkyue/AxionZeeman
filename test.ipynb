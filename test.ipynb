{
 "cells": [
  {
   "cell_type": "markdown",
   "metadata": {},
   "source": [
    "cd Desktop/Axion\\ Zeeman/AxionZeeman ; git add . ; git commit -m \"In progress\" ; git push origin main"
   ]
  },
  {
   "cell_type": "markdown",
   "metadata": {},
   "source": [
    "cd Library/Mathematica/FrontEnd ; rm init.m"
   ]
  },
  {
   "cell_type": "code",
   "execution_count": 1,
   "metadata": {},
   "outputs": [],
   "source": [
    "B1DCoreSph2 = r\"-\\frac{8 a \\text{BbarYP} \\sqrt{\\rho } \\text{rC}^2 \\epsilon  \\sin (m \\text{rC}) \\cos (m (\\text{rP}-t)+\\text{$\\phi $P})}{m \\text{rP} \\left(a \\text{rC}^2+1\\right)^6}\"\n",
    "B1DCoreSph3 = r\"\\frac{8 a \\text{BbarYP} \\sqrt{\\rho } \\text{rC}^2 \\epsilon  \\cos (\\text{$\\theta $P}) \\sin (m \\text{rC}) \\sin (m (\\text{rP}-t)+\\text{$\\phi $P})}{m \\text{rP} \\left(a \\text{rC}^2+1\\right)^6}\"\n",
    "B1DTailSph2 = r\"\\frac{3 \\text{BbarYP} \\epsilon  \\sqrt{\\frac{\\rho }{\\left(a \\text{rC}^2+1\\right)^8}} \\sin (m \\text{rC}) \\cos (m (\\text{rP}-t)+\\text{$\\phi $P})}{2 m \\text{rP}}\"\n",
    "B1DTailSph3 = r\"-\\frac{3 \\text{BbarYP} \\epsilon  \\cos (\\text{$\\theta $P}) \\sqrt{\\frac{\\rho }{\\left(a \\text{rC}^2+1\\right)^8}} \\sin (m \\text{rC}) \\sin (m (\\text{rP}-t)+\\text{$\\phi $P})}{2 m \\text{rP}}\""
   ]
  },
  {
   "cell_type": "code",
   "execution_count": 2,
   "metadata": {},
   "outputs": [],
   "source": [
    "E1DCoreSph2 = r\"-\\frac{\\sqrt{\\rho } \\text{rC} \\epsilon  \\cos (m \\text{rC}) \\cos (m (\\text{rP}-t)+\\text{$\\phi $P})}{\\sqrt{2} \\text{rP} \\left(a \\text{rC}^2+1\\right)^4}\"\n",
    "E1DCoreSph3 = r\"\\frac{\\sqrt{\\rho } \\text{rC} \\epsilon  \\cos (\\text{$\\theta $P}) \\cos (m \\text{rC}) \\sin (m (\\text{rP}-t)+\\text{$\\phi $P})}{\\sqrt{2} \\text{rP} \\left(a \\text{rC}^2+1\\right)^4}\"\n",
    "E1DTailSph2 = r\"\\frac{\\text{rC} \\epsilon  \\sqrt{\\frac{\\rho }{\\left(a \\text{rC}^2+1\\right)^8}} \\left(-2 \\sqrt{\\frac{\\text{rC}}{\\text{rP}}} \\cos (m t-\\text{$\\phi $P})+\\cos (m (\\text{rC}-\\text{rP}+t)-\\text{$\\phi $P})+\\cos (m (\\text{rC}+\\text{rP}-t)+\\text{$\\phi $P})\\right)}{2 \\sqrt{2} \\text{rP}}\"\n",
    "E1DTailSph3 = r\"-\\frac{\\text{rC} \\epsilon  \\cos (\\text{$\\theta $P}) \\sqrt{\\frac{\\rho }{\\left(a \\text{rC}^2+1\\right)^8}} \\left(\\sqrt{\\frac{\\text{rC}}{\\text{rP}}} \\sin (m t-\\text{$\\phi $P})+\\cos (m \\text{rC}) \\sin (m (\\text{rP}-t)+\\text{$\\phi $P})\\right)}{\\sqrt{2} \\text{rP}}\""
   ]
  },
  {
   "cell_type": "code",
   "execution_count": 3,
   "metadata": {},
   "outputs": [],
   "source": [
    "# Format the LaTeX string\n",
    "def format_latex_string(input_str, replacements):\n",
    "    # Initialize the string\n",
    "    latex_str = input_str\n",
    "\n",
    "    for key, value in replacements.items():\n",
    "        latex_str = latex_str.replace(key, value)\n",
    "\n",
    "    # Remove all whitespace\n",
    "    latex_str = latex_str.replace(\" \", \"\")\n",
    "\n",
    "    return latex_str\n",
    "\n",
    "# Define the replacements\n",
    "replacements = {\n",
    "    r\"\\text{BbarYP}\": \"\",\n",
    "    r\"\\epsilon\": r\"\\e\",\n",
    "    \"m\": \"m_{D}\",\n",
    "    r\"\\text{rC}\": r\"r_{c}\",\n",
    "    r\"\\text{rP}\": r\"r_{p}\",\n",
    "    r\"\\text{$\\theta $P}\": r\"\\theta_{p}\",\n",
    "    r\"\\text{$\\phi $P}\": r\"\\phi_{p}\"\n",
    "}"
   ]
  },
  {
   "cell_type": "code",
   "execution_count": 4,
   "metadata": {},
   "outputs": [
    {
     "name": "stdout",
     "output_type": "stream",
     "text": [
      "-\\frac{8a\\sqrt{\\rho}r_{c}^2\\e\\sin(m_{D}r_{c})\\cos(m_{D}(r_{p}-t)+\\phi_{p})}{m_{D}r_{p}\\left(ar_{c}^2+1\\right)^6}\n",
      "\\frac{3\\e\\sqrt{\\frac{\\rho}{\\left(ar_{c}^2+1\\right)^8}}\\sin(m_{D}r_{c})\\cos(m_{D}(r_{p}-t)+\\phi_{p})}{2m_{D}r_{p}}\n",
      "\\frac{8a\\sqrt{\\rho}r_{c}^2\\e\\cos(\\theta_{p})\\sin(m_{D}r_{c})\\sin(m_{D}(r_{p}-t)+\\phi_{p})}{m_{D}r_{p}\\left(ar_{c}^2+1\\right)^6}\n",
      "-\\frac{3\\e\\cos(\\theta_{p})\\sqrt{\\frac{\\rho}{\\left(ar_{c}^2+1\\right)^8}}\\sin(m_{D}r_{c})\\sin(m_{D}(r_{p}-t)+\\phi_{p})}{2m_{D}r_{p}}\n"
     ]
    }
   ],
   "source": [
    "# Iterate over all components of the magnetic field\n",
    "for input_str in [B1DCoreSph2, B1DTailSph2, B1DCoreSph3, B1DTailSph3]:\n",
    "    latex_str = format_latex_string(input_str, replacements)\n",
    "    print(latex_str)"
   ]
  },
  {
   "cell_type": "code",
   "execution_count": 5,
   "metadata": {},
   "outputs": [
    {
     "name": "stdout",
     "output_type": "stream",
     "text": [
      "-\\frac{\\sqrt{\\rho}r_{c}\\e\\cos(m_{D}r_{c})\\cos(m_{D}(r_{p}-t)+\\phi_{p})}{\\sqrt{2}r_{p}\\left(ar_{c}^2+1\\right)^4}\n",
      "\\frac{r_{c}\\e\\sqrt{\\frac{\\rho}{\\left(ar_{c}^2+1\\right)^8}}\\left(-2\\sqrt{\\frac{r_{c}}{r_{p}}}\\cos(m_{D}t-\\phi_{p})+\\cos(m_{D}(r_{c}-r_{p}+t)-\\phi_{p})+\\cos(m_{D}(r_{c}+r_{p}-t)+\\phi_{p})\\right)}{2\\sqrt{2}r_{p}}\n",
      "\\frac{\\sqrt{\\rho}r_{c}\\e\\cos(\\theta_{p})\\cos(m_{D}r_{c})\\sin(m_{D}(r_{p}-t)+\\phi_{p})}{\\sqrt{2}r_{p}\\left(ar_{c}^2+1\\right)^4}\n",
      "-\\frac{r_{c}\\e\\cos(\\theta_{p})\\sqrt{\\frac{\\rho}{\\left(ar_{c}^2+1\\right)^8}}\\left(\\sqrt{\\frac{r_{c}}{r_{p}}}\\sin(m_{D}t-\\phi_{p})+\\cos(m_{D}r_{c})\\sin(m_{D}(r_{p}-t)+\\phi_{p})\\right)}{\\sqrt{2}r_{p}}\n"
     ]
    }
   ],
   "source": [
    "# Iterate over all components of the electric field\n",
    "for input_str in [E1DCoreSph2, E1DTailSph2, E1DCoreSph3, E1DTailSph3]:\n",
    "    latex_str = format_latex_string(input_str, replacements)\n",
    "    print(latex_str)"
   ]
  },
  {
   "cell_type": "code",
   "execution_count": 6,
   "metadata": {},
   "outputs": [],
   "source": [
    "from zeeman import *\n",
    "\n",
    "# Define the imaginary unit\n",
    "j = 1j\n",
    "\n",
    "# Retrieve physical constants\n",
    "c = physical_constants[\"speed of light in vacuum\"][0]\n",
    "e_au = physical_constants[\"atomic unit of charge\"][0]\n",
    "g_e = physical_constants[\"electron g factor\"][0]\n",
    "g_p = physical_constants[\"proton g factor\"][0]\n",
    "M_s = M_sun.value\n",
    "m_pl = (c * hbar / (8 * np.pi * G))**(1 / 2) * c**2 / e_au # Reduced Planck mass (eV)\n",
    "mu_B = physical_constants[\"Bohr magneton\"][0]\n",
    "r_e = physical_constants[\"Bohr radius\"][0]\n",
    "\n",
    "# Conversion factors\n",
    "CNu = (4 * np.pi * alpha)**(1 / 2) / e_au\n",
    "kg_to_eV = c**2 / e_au\n",
    "m_to_eVminus1 = e_au / hbar / c\n",
    "J_to_eV = 1 / e_au\n",
    "pc_to_m = u.pc.to(u.m)\n",
    "s_to_eVminus1 = e_au / hbar\n",
    "T_to_eV2 = kg_to_eV / CNu / s_to_eVminus1\n",
    "\n",
    "# Parameters of Galactic Centre\n",
    "dist_gc = 8 * 1e3 * u.pc # Distance to Galactic Centre\n",
    "l_gc = 0 * u.deg # Galactic longitude\n",
    "b_gc = 0 * u.deg # Galactic latitude\n",
    "\n",
    "# Create SkyCoord object for Galactic Centre and convert to Cartesian\n",
    "coord_gc = SkyCoord(l=l_gc, b=b_gc, distance=dist_gc, frame=\"galactic\")\n",
    "cart_gc = coord_gc.icrs.cartesian\n",
    "\n",
    "# Core radius (pc)\n",
    "r_c_pc = 180\n",
    "r_c = r_c_pc * pc_to_m * m_to_eVminus1\n",
    "\n",
    "# Scaling constants of Tom's profile (arXiv: 1406.6586v1)\n",
    "a = (0.091 / r_c_pc**2) * (pc_to_m * m_to_eVminus1)**(-2) # Scaling constant of axion (eV^2)"
   ]
  },
  {
   "cell_type": "code",
   "execution_count": 7,
   "metadata": {},
   "outputs": [
    {
     "name": "stdout",
     "output_type": "stream",
     "text": [
      "The distance of Earth from Galactic Centre is 1.25e+27eV^-1.\n",
      "The magnitude of internal magnetic field is roughly 12.52T.\n",
      "The magnitude of background magnetic field is 1.95e-08eV^2.\n",
      "Proportionality constant between dark photon and axion: 2.20e+11.\n"
     ]
    }
   ],
   "source": [
    "# Define the paths for the folders\n",
    "folders = [\"Figure\"]\n",
    "\n",
    "# Check if the folders exist, create them if they do not\n",
    "for folder in folders:\n",
    "    if not os.path.exists(folder):\n",
    "        os.makedirs(folder)\n",
    "\n",
    "# Calculate the distance of Earth from Galactic Centre (pc)\n",
    "r_p_pc = np.linalg.norm(cart_gc.xyz)\n",
    "\n",
    "# Calculate distance of Earth from Galactic Centre (eV^-1)\n",
    "r_p = r_p_pc.value * pc_to_m * m_to_eVminus1\n",
    "print(f\"The distance of Earth from Galactic Centre is {r_p:.2e}eV^-1.\")\n",
    "\n",
    "# Calculate the internal magnetic field of a hydrogen atom\n",
    "B_int = 1 / (4 * np.pi * epsilon_0) * e_au / (m_e * c**2 * r_e**3) * hbar\n",
    "print(f\"The magnitude of internal magnetic field is roughly {B_int:.2f}T.\")\n",
    "\n",
    "# Specify the potential and particle types\n",
    "potential_type = \"flat\" # sech or flat\n",
    "particle_type = \"dark photon\" # axion or dark photon\n",
    "\n",
    "# Background magnetic field (T)\n",
    "B_barT = 1e-10\n",
    "B_bar = B_barT * T_to_eV2\n",
    "print(f\"The magnitude of background magnetic field is {B_bar:.2e}eV^2.\")\n",
    "\n",
    "# Set parameters based on the potential type\n",
    "f, m_a, m_D = gen_params(potential_type)\n",
    "\n",
    "# Coupling strength\n",
    "g_ac = calculate_gac(potential_type, f) # Axion-photon coupling strength\n",
    "epsilon = 1e-3 # Photon-dark photon coupling strength, 1e-5 to 1e-3\n",
    "\n",
    "if particle_type == \"dark photon\":\n",
    "    # Print the proportionality constant between dark photon and axion\n",
    "    print(f\"Proportionality constant between dark photon and axion: {epsilon * m_D / (g_ac * B_bar):.2e}.\")\n",
    "\n",
    "# Set mass and oscillation frequency based on particle type\n",
    "if particle_type == \"axion\":\n",
    "    m, omega = m_a, m_a\n",
    "elif particle_type == \"dark photon\":\n",
    "    m, omega = m_D, m_D"
   ]
  },
  {
   "cell_type": "code",
   "execution_count": 44,
   "metadata": {},
   "outputs": [],
   "source": [
    "# Calculate the integral\n",
    "def calculate_I(r_p, r_cutoff, omega):\n",
    "    \"\"\"\n",
    "    Args:\n",
    "        r_p (array-like or float): Distance(s) of measurement point(s) from Galactic Centre.\n",
    "        r_cutoff (float): Cutoff radius.\n",
    "        omega (float): Oscillation frequency.\n",
    "\n",
    "    Returns:\n",
    "        array or float: Integral(s).\n",
    "    \"\"\"\n",
    "\n",
    "    # Convert r_p to a numpy array for element-wise operations\n",
    "    r_p = np.asarray(r_p, dtype=np.float64)\n",
    "\n",
    "    # Initialise the output array\n",
    "    I = np.zeros_like(r_p, dtype=complex)\n",
    "\n",
    "    # Calculate the core part\n",
    "    # I_core = (8 * j * a * np.exp(j * r_p * omega) * r_c**2 * np.sin(r_c * omega)) / ((1 + a * r_c**2)**6 * r_p * omega**2)\n",
    "    I_core = j * a * np.exp(j * r_p * omega) * (j + r_p * omega) * (r_c * (15 * a * (- 3 + a * r_c**2) * (- 1 + 3 * a * r_c**2) \n",
    "            + 8 * (3 - 7 * a * r_c**2) * omega**2) * np.cos(r_c * omega) \n",
    "            + omega * (- 9 + r_c**2 * (21 * a * (6 - 5 * a * r_c**2) + 8 * (1 + a * r_c**2) * omega**2)) * np.sin(r_c * omega)) / (r_p**2 * (omega + a * r_c**2 * omega)**6)\n",
    "    \n",
    "    # Calculate the tail part\n",
    "    I_tail = - (3 * j * np.exp(j * r_p * omega) * np.sin(r_c * omega)) / (2 * r_p * omega**2)\n",
    "\n",
    "    I_tail = np.exp(- j * r_p * omega) * r_c**(3 / 2) * ((16 + 16 * j) * np.sqrt(2 * np.pi) * r_p**(11 / 2) * omega**(11 / 2) * (- j + r_p * omega) \n",
    "                                                         + (16 + 16 * j) * np.exp(2 * j * r_p * omega) * np.sqrt(2 * np.pi) * r_p**(11 / 2) * omega**(11 / 2) * (j + r_p * omega) \n",
    "                                                         + 3 * np.exp(3 * j * r_p * omega) * (j + r_p * omega) * (315 + 2 * r_p * omega * (35 * j + 2 * r_p * omega * (- 5 - 2 * j * r_p * omega))) \n",
    "                                                         - 3 * np.exp(j * r_p * omega) * (315 * j + r_p * omega * (385 + 2 * r_p * omega * (- 45 * j + 2 * r_p * omega * (- 7 + 2 * r_p * omega * (j + 4 * r_p * omega)))))) / (64 * r_p**(15 / 2) * omega**7)\n",
    "\n",
    "    I = I_core + 1 / (1 + a * r_cutoff**2)**4 * I_tail\n",
    "\n",
    "    return I_tail"
   ]
  },
  {
   "cell_type": "code",
   "execution_count": 45,
   "metadata": {},
   "outputs": [],
   "source": [
    "# Calculate the magnitude of the magnetic field induced by the soliton\n",
    "def calculate_B1(potential_type, particle_type, t, m, f, epsilon, r_p, theta_p, phi_p, B_bar, cutoff_factor=1):\n",
    "    \"\"\"\n",
    "    Args:\n",
    "        potential_type (str): Type of potential (\"sech\" or \"flat\").\n",
    "        particle_type (str): Type of particle (\"axion\" or \"dark photon\").\n",
    "        t (float): Time.\n",
    "        m (float): Particle mass.\n",
    "        f (float): Energy scale of the axion.\n",
    "        epsilon (float): Coupling strength between photon and dark photon.\n",
    "        r_p (float): Distance from the Galactic Centre at the measurement point.\n",
    "        theta_p (float): Polar angle displacement of the measurement point.\n",
    "        phi_p (float): Azimuthal angle displacement of the measurement point.\n",
    "        B_bar (float): Magnitude of the background magnetic field.\n",
    "\n",
    "    Returns:\n",
    "        numpy.ndarray: Magnitude of the magnetic field and its components (if applicable).\n",
    "    \"\"\"\n",
    "\n",
    "    # Handle the \"sech\" potential case\n",
    "    if potential_type == \"sech\":\n",
    "        g_ac = calculate_gac(potential_type, f) # Calculate the axion-photon coupling strength\n",
    "        phi0 = 3 * f # Calculate the axion field strength\n",
    "        omega = 0.8 * m # Oscillation frequency\n",
    "        R = 2 / m # Calculate the radius of the axion star\n",
    "\n",
    "        # Calculate B1 for the sech potential\n",
    "        B1 = B_bar / r_p * np.cos(- omega * t) * phi0 * g_ac * omega * 1 / 4 * np.pi**2 * R**2 * np.tanh(np.pi * omega * R / 2) / np.cosh(np.pi * omega * R / 2)\n",
    "\n",
    "        return np.array([B1])\n",
    "\n",
    "    # Handle the \"flat\" potential case\n",
    "    elif potential_type == \"flat\":\n",
    "        # Parameters common to both axion and dark photon\n",
    "        r_cutoff = cutoff_factor * r_c\n",
    "        omega = m\n",
    "        \n",
    "        # Calculate the energy density at the centre of the soliton\n",
    "        rho0 = calculate_rho0(m, r_c_pc)\n",
    "\n",
    "        # Calculate the axion field strength\n",
    "        phi0 = calculate_phi(rho0, m)\n",
    "        A0 = phi0 # Dark photon field strength\n",
    "\n",
    "        # Set parameters based on the particle type\n",
    "        if particle_type == \"axion\":\n",
    "            g_ac = calculate_gac(potential_type, f) # Calculate the axion-photon coupling strength\n",
    "            B_bar_x, B_bar_y, B_bar_z = B_bar / np.sqrt(3), B_bar / np.sqrt(3), B_bar / np.sqrt(3) # Decompose B_bar into Cartesian components\n",
    "            coeff = - j * omega * g_ac * phi0 # Coefficient for axion\n",
    "\n",
    "        elif particle_type == \"dark photon\":\n",
    "            B_bar_x, B_bar_y, B_bar_z = 1 / np.sqrt(2), j / np.sqrt(2), 0 # Pseudo-magnetic field for circular polarisation\n",
    "            coeff = epsilon * m**2 * A0 # Coefficient for dark photon\n",
    "\n",
    "        # Calculate the integral based on the cutoff radius\n",
    "        I = calculate_I(r_p, r_cutoff, omega)\n",
    "\n",
    "        # Compute the magnitudes of the B1 components\n",
    "        B1_x_complex = coeff * np.exp(- j * omega * t) * I * (np.cos(theta_p) * B_bar_y - np.sin(theta_p) * np.sin(phi_p) * B_bar_z)\n",
    "        B1_y_complex = coeff * np.exp(- j * omega * t) * I * (- np.cos(theta_p) * B_bar_x + np.sin(theta_p) * np.cos(phi_p) * B_bar_z)\n",
    "        B1_z_complex = coeff * np.exp(- j * omega * t) * I * np.sin(theta_p) * (np.sin(phi_p) * B_bar_x - np.cos(phi_p) * B_bar_y)\n",
    "\n",
    "        # Extract the real parts of the components\n",
    "        B1_x = np.real(B1_x_complex)\n",
    "        B1_y = np.real(B1_y_complex)\n",
    "        B1_z = np.real(B1_z_complex)\n",
    "\n",
    "        # Calculate the magnitude of B1\n",
    "        B1 = np.sqrt(B1_x**2 + B1_y**2 + B1_z**2)\n",
    "\n",
    "        return np.array([B1, B1_x, B1_y, B1_z])"
   ]
  },
  {
   "cell_type": "code",
   "execution_count": 48,
   "metadata": {},
   "outputs": [
    {
     "data": {
      "text/plain": [
       "(9.92985024731416e+21+9.92985065199193e+21j)"
      ]
     },
     "execution_count": 48,
     "metadata": {},
     "output_type": "execute_result"
    }
   ],
   "source": [
    "calculate_I(r_p, r_c, omega)"
   ]
  },
  {
   "cell_type": "code",
   "execution_count": 47,
   "metadata": {},
   "outputs": [
    {
     "data": {
      "text/plain": [
       "array([ 3.69340795e-03, -2.26156011e-19, -2.26156002e-19,  3.69340795e-03])"
      ]
     },
     "execution_count": 47,
     "metadata": {},
     "output_type": "execute_result"
    }
   ],
   "source": [
    "calculate_B1(\"flat\", \"dark photon\", 0, 1e-22, f, epsilon, 8000 * pc_to_m * m_to_eVminus1, np.pi / 2, 0, B_bar) / T_to_eV2 * 1e4"
   ]
  }
 ],
 "metadata": {
  "kernelspec": {
   "display_name": "Python 3",
   "language": "python",
   "name": "python3"
  },
  "language_info": {
   "codemirror_mode": {
    "name": "ipython",
    "version": 3
   },
   "file_extension": ".py",
   "mimetype": "text/x-python",
   "name": "python",
   "nbconvert_exporter": "python",
   "pygments_lexer": "ipython3",
   "version": "3.10.2"
  }
 },
 "nbformat": 4,
 "nbformat_minor": 2
}

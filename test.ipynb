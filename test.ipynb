{
 "cells": [
  {
   "cell_type": "markdown",
   "metadata": {},
   "source": [
    "cd Desktop/Axion\\ Zeeman/AxionZeeman ; git add . ; git commit -m \"In progress\" ; git push origin main"
   ]
  },
  {
   "cell_type": "code",
   "execution_count": 122,
   "metadata": {},
   "outputs": [],
   "source": [
    "input_str = r\"\\frac{a \\text{BbarYP} m \\epsilon  \\sqrt{\\rho } \\cos (\\text{$\\theta $P}) \\left(\\text{rC} \\left(8 \\left(3-7 a \\text{rC}^2\\right) m^2+15 a \\left(a \\text{rC}^2-3\\right) \\left(3 a \\text{rC}^2-1\\right)\\right) \\cos (m \\text{rC})+m \\left(\\text{rC}^2 \\left(8 \\left(a \\text{rC}^2+1\\right) m^2+21 a \\left(6-5 a \\text{rC}^2\\right)\\right)-9\\right) \\sin (m \\text{rC})\\right) (\\cos (m (\\text{rP}-t)+\\text{$\\phi $P})+m \\text{rP} \\sin (m (\\text{rP}-t)+\\text{$\\phi $P}))}{\\left(a m \\text{rC}^2+m\\right)^6 \\text{rP}^2}+\\frac{\\text{BbarYP} \\epsilon  \\sqrt{\\frac{\\rho }{\\left(a \\text{rC}^2+1\\right)^8}} \\cos (\\text{$\\theta $P}) \\left(32 \\sqrt{\\pi } \\text{rC}^5 \\sqrt{\\frac{\\text{rC}}{m}} \\text{rP}^{13/2} \\cos (m (\\text{rP}+t)-\\text{$\\phi $P}) m^7+32 \\sqrt{\\pi } \\text{rC}^5 \\sqrt{\\frac{\\text{rC}}{m}} \\text{rP}^{13/2} \\cos (m (\\text{rP}-t)+\\text{$\\phi $P}) m^7+32 \\sqrt{\\pi } \\text{rC}^5 \\sqrt{\\frac{\\text{rC}}{m}} \\text{rP}^{13/2} \\sin (m (\\text{rP}+t)-\\text{$\\phi $P}) m^7-32 \\sqrt{\\pi } \\text{rC}^5 \\sqrt{\\frac{\\text{rC}}{m}} \\text{rP}^{13/2} \\sin (m (\\text{rP}-t)+\\text{$\\phi $P}) m^7-48 \\sqrt{2} \\text{rC}^4 \\text{rP}^{11/2} (m \\text{rP} (\\cos (m (\\text{rC}-\\text{rP}+t)-\\text{$\\phi $P})-\\cos (m (\\text{rC}+\\text{rP}-t)+\\text{$\\phi $P}))+\\sin (m (\\text{rC}-\\text{rP}+t)-\\text{$\\phi $P})+\\sin (m (\\text{rC}+\\text{rP}-t)+\\text{$\\phi $P})) m^4+24 \\sqrt{2} \\text{rC}^3 \\text{rP}^{11/2} (\\cos (m (\\text{rC}-\\text{rP}+t)-\\text{$\\phi $P})+\\cos (m (\\text{rC}+\\text{rP}-t)+\\text{$\\phi $P})+m \\text{rP} (\\sin (m (\\text{rC}+\\text{rP}-t)+\\text{$\\phi $P})-\\sin (m (\\text{rC}-\\text{rP}+t)-\\text{$\\phi $P}))) m^3+60 \\sqrt{2} \\text{rC}^2 \\text{rP}^{11/2} (m \\text{rP} (\\cos (m (\\text{rC}-\\text{rP}+t)-\\text{$\\phi $P})-\\cos (m (\\text{rC}+\\text{rP}-t)+\\text{$\\phi $P}))+\\sin (m (\\text{rC}-\\text{rP}+t)-\\text{$\\phi $P})+\\sin (m (\\text{rC}+\\text{rP}-t)+\\text{$\\phi $P})) m^2-210 \\sqrt{2} \\text{rC} \\text{rP}^{11/2} (\\cos (m (\\text{rC}-\\text{rP}+t)-\\text{$\\phi $P})+\\cos (m (\\text{rC}+\\text{rP}-t)+\\text{$\\phi $P})+m \\text{rP} (\\sin (m (\\text{rC}+\\text{rP}-t)+\\text{$\\phi $P})-\\sin (m (\\text{rC}-\\text{rP}+t)-\\text{$\\phi $P}))) m-945 \\sqrt{2} \\text{rP}^{11/2} (m \\text{rP} (\\cos (m (\\text{rC}-\\text{rP}+t)-\\text{$\\phi $P})-\\cos (m (\\text{rC}+\\text{rP}-t)+\\text{$\\phi $P}))+\\sin (m (\\text{rC}-\\text{rP}+t)-\\text{$\\phi $P})+\\sin (m (\\text{rC}+\\text{rP}-t)+\\text{$\\phi $P}))+\\text{rC}^{11/2} \\left(3 \\sqrt{2} \\left(m \\text{rP} \\left(32 m^4 \\text{rP}^4-28 m^2 \\text{rP}^2+385\\right) \\cos (m t-\\text{$\\phi $P})+m \\text{rP} \\left(12 m^2 \\text{rP}^2-245\\right) \\cos (2 m \\text{rP}-m t+\\text{$\\phi $P})+\\left(8 m^4 \\text{rP}^4-90 m^2 \\text{rP}^2+315\\right) \\sin (m t-\\text{$\\phi $P})+\\left(-8 m^4 \\text{rP}^4+50 m^2 \\text{rP}^2+315\\right) \\sin (2 m \\text{rP}-m t+\\text{$\\phi $P})\\right)-64 m^{13/2} \\sqrt{\\pi } \\text{rP}^{13/2} \\cos (m \\text{rP}) (\\cos (m t-\\text{$\\phi $P})+\\sin (m t-\\text{$\\phi $P}))\\right)\\right)}{64 \\sqrt{2} m^6 \\text{rC}^4 \\text{rP}^{15/2}}\""
   ]
  },
  {
   "cell_type": "code",
   "execution_count": 118,
   "metadata": {},
   "outputs": [],
   "source": [
    "# Format the LaTeX string\n",
    "def format_latex_string(input_str, replacements):\n",
    "    # Initialize the string\n",
    "    latex_str = input_str\n",
    "\n",
    "    for key, value in replacements.items():\n",
    "        latex_str = latex_str.replace(key, value)\n",
    "\n",
    "    # Remove all whitespace\n",
    "    latex_str = latex_str.replace(\" \", \"\")\n",
    "\n",
    "    return latex_str\n",
    "\n",
    "# Define the replacements\n",
    "replacements = {\n",
    "    r\"\\text{BbarYP}\": \"\",\n",
    "    r\"\\epsilon\": r\"\\e\",\n",
    "    \"m\": \"m_{D}\",\n",
    "    r\"\\text{rC}\": r\"r_{c}\",\n",
    "    r\"\\text{rP}\": r\"r_{p}\",\n",
    "    r\"\\text{$\\theta $P}\": r\"\\theta_{p}\",\n",
    "    r\"\\text{$\\phi $P}\": r\"\\phi_{p}\"\n",
    "}"
   ]
  },
  {
   "cell_type": "code",
   "execution_count": 123,
   "metadata": {},
   "outputs": [
    {
     "name": "stdout",
     "output_type": "stream",
     "text": [
      "\\frac{am_{D}\\e\\sqrt{\\rho}\\cos(\\theta_{p})\\left(r_{c}\\left(8\\left(3-7ar_{c}^2\\right)m_{D}^2+15a\\left(ar_{c}^2-3\\right)\\left(3ar_{c}^2-1\\right)\\right)\\cos(m_{D}r_{c})+m_{D}\\left(r_{c}^2\\left(8\\left(ar_{c}^2+1\\right)m_{D}^2+21a\\left(6-5ar_{c}^2\\right)\\right)-9\\right)\\sin(m_{D}r_{c})\\right)(\\cos(m_{D}(r_{p}-t)+\\phi_{p})+m_{D}r_{p}\\sin(m_{D}(r_{p}-t)+\\phi_{p}))}{\\left(am_{D}r_{c}^2+m_{D}\\right)^6r_{p}^2}+\\frac{\\e\\sqrt{\\frac{\\rho}{\\left(ar_{c}^2+1\\right)^8}}\\cos(\\theta_{p})\\left(32\\sqrt{\\pi}r_{c}^5\\sqrt{\\frac{r_{c}}{m_{D}}}r_{p}^{13/2}\\cos(m_{D}(r_{p}+t)-\\phi_{p})m_{D}^7+32\\sqrt{\\pi}r_{c}^5\\sqrt{\\frac{r_{c}}{m_{D}}}r_{p}^{13/2}\\cos(m_{D}(r_{p}-t)+\\phi_{p})m_{D}^7+32\\sqrt{\\pi}r_{c}^5\\sqrt{\\frac{r_{c}}{m_{D}}}r_{p}^{13/2}\\sin(m_{D}(r_{p}+t)-\\phi_{p})m_{D}^7-32\\sqrt{\\pi}r_{c}^5\\sqrt{\\frac{r_{c}}{m_{D}}}r_{p}^{13/2}\\sin(m_{D}(r_{p}-t)+\\phi_{p})m_{D}^7-48\\sqrt{2}r_{c}^4r_{p}^{11/2}(m_{D}r_{p}(\\cos(m_{D}(r_{c}-r_{p}+t)-\\phi_{p})-\\cos(m_{D}(r_{c}+r_{p}-t)+\\phi_{p}))+\\sin(m_{D}(r_{c}-r_{p}+t)-\\phi_{p})+\\sin(m_{D}(r_{c}+r_{p}-t)+\\phi_{p}))m_{D}^4+24\\sqrt{2}r_{c}^3r_{p}^{11/2}(\\cos(m_{D}(r_{c}-r_{p}+t)-\\phi_{p})+\\cos(m_{D}(r_{c}+r_{p}-t)+\\phi_{p})+m_{D}r_{p}(\\sin(m_{D}(r_{c}+r_{p}-t)+\\phi_{p})-\\sin(m_{D}(r_{c}-r_{p}+t)-\\phi_{p})))m_{D}^3+60\\sqrt{2}r_{c}^2r_{p}^{11/2}(m_{D}r_{p}(\\cos(m_{D}(r_{c}-r_{p}+t)-\\phi_{p})-\\cos(m_{D}(r_{c}+r_{p}-t)+\\phi_{p}))+\\sin(m_{D}(r_{c}-r_{p}+t)-\\phi_{p})+\\sin(m_{D}(r_{c}+r_{p}-t)+\\phi_{p}))m_{D}^2-210\\sqrt{2}r_{c}r_{p}^{11/2}(\\cos(m_{D}(r_{c}-r_{p}+t)-\\phi_{p})+\\cos(m_{D}(r_{c}+r_{p}-t)+\\phi_{p})+m_{D}r_{p}(\\sin(m_{D}(r_{c}+r_{p}-t)+\\phi_{p})-\\sin(m_{D}(r_{c}-r_{p}+t)-\\phi_{p})))m_{D}-945\\sqrt{2}r_{p}^{11/2}(m_{D}r_{p}(\\cos(m_{D}(r_{c}-r_{p}+t)-\\phi_{p})-\\cos(m_{D}(r_{c}+r_{p}-t)+\\phi_{p}))+\\sin(m_{D}(r_{c}-r_{p}+t)-\\phi_{p})+\\sin(m_{D}(r_{c}+r_{p}-t)+\\phi_{p}))+r_{c}^{11/2}\\left(3\\sqrt{2}\\left(m_{D}r_{p}\\left(32m_{D}^4r_{p}^4-28m_{D}^2r_{p}^2+385\\right)\\cos(m_{D}t-\\phi_{p})+m_{D}r_{p}\\left(12m_{D}^2r_{p}^2-245\\right)\\cos(2m_{D}r_{p}-m_{D}t+\\phi_{p})+\\left(8m_{D}^4r_{p}^4-90m_{D}^2r_{p}^2+315\\right)\\sin(m_{D}t-\\phi_{p})+\\left(-8m_{D}^4r_{p}^4+50m_{D}^2r_{p}^2+315\\right)\\sin(2m_{D}r_{p}-m_{D}t+\\phi_{p})\\right)-64m_{D}^{13/2}\\sqrt{\\pi}r_{p}^{13/2}\\cos(m_{D}r_{p})(\\cos(m_{D}t-\\phi_{p})+\\sin(m_{D}t-\\phi_{p}))\\right)\\right)}{64\\sqrt{2}m_{D}^6r_{c}^4r_{p}^{15/2}}\n"
     ]
    }
   ],
   "source": [
    "latex_str = format_latex_string(input_str, replacements)\n",
    "print(latex_str)"
   ]
  }
 ],
 "metadata": {
  "kernelspec": {
   "display_name": "Python 3",
   "language": "python",
   "name": "python3"
  },
  "language_info": {
   "codemirror_mode": {
    "name": "ipython",
    "version": 3
   },
   "file_extension": ".py",
   "mimetype": "text/x-python",
   "name": "python",
   "nbconvert_exporter": "python",
   "pygments_lexer": "ipython3",
   "version": "3.10.2"
  }
 },
 "nbformat": 4,
 "nbformat_minor": 2
}

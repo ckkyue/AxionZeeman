{
 "cells": [
  {
   "cell_type": "code",
   "execution_count": 28,
   "metadata": {},
   "outputs": [],
   "source": [
    "input_str = r\"\\frac{\\text{BbarYP} \\left(\\text{rC}^{11/2} \\left(3 \\sqrt{2} \\left(\\text{rP} \\omega  \\left(\\left(12 \\text{rP}^2 \\omega ^2-245\\right) \\sin (2 \\text{rP} \\omega -t \\omega +\\text{$\\phi $P})+\\left(32 \\text{rP}^4 \\omega ^4-28 \\text{rP}^2 \\omega ^2+385\\right) \\sin (\\text{$\\phi $P}-t \\omega )\\right)+\\left(8 \\text{rP}^4 \\omega ^4-90 \\text{rP}^2 \\omega ^2+315\\right) \\cos (\\text{$\\phi $P}-t \\omega )+\\left(8 \\text{rP}^4 \\omega ^4-50 \\text{rP}^2 \\omega ^2-315\\right) \\cos (2 \\text{rP} \\omega -t \\omega +\\text{$\\phi $P})\\right)-64 \\sqrt{\\pi } \\text{rP}^{13/2} \\omega ^{13/2} \\cos (\\text{rP} \\omega ) (\\sin (\\text{$\\phi $P}-t \\omega )+\\cos (\\text{$\\phi $P}-t \\omega ))\\right)+32 \\sqrt{\\pi } \\text{rC}^5 \\text{rP}^{13/2} \\omega ^7 \\sqrt{\\frac{\\text{rC}}{\\omega }} \\sin (\\omega  (\\text{rP}-t)+\\text{$\\phi $P})+32 \\sqrt{\\pi } \\text{rC}^5 \\text{rP}^{13/2} \\omega ^7 \\sqrt{\\frac{\\text{rC}}{\\omega }} \\sin (\\text{$\\phi $P}-\\omega  (\\text{rP}+t))+32 \\sqrt{\\pi } \\text{rC}^5 \\text{rP}^{13/2} \\omega ^7 \\sqrt{\\frac{\\text{rC}}{\\omega }} \\cos (\\omega  (\\text{rP}-t)+\\text{$\\phi $P})+32 \\sqrt{\\pi } \\text{rC}^5 \\text{rP}^{13/2} \\omega ^7 \\sqrt{\\frac{\\text{rC}}{\\omega }} \\cos (\\text{$\\phi $P}-\\omega  (\\text{rP}+t))+48 \\sqrt{2} \\text{rC}^4 \\text{rP}^{11/2} \\omega ^4 (\\text{rP} \\omega  (\\sin (\\omega  (\\text{rC}+\\text{rP}-t)+\\text{$\\phi $P})-\\sin (\\text{$\\phi $P}-\\omega  (\\text{rC}-\\text{rP}+t)))+\\cos (\\omega  (\\text{rC}+\\text{rP}-t)+\\text{$\\phi $P})-\\cos (\\text{$\\phi $P}-\\omega  (\\text{rC}-\\text{rP}+t)))-24 \\sqrt{2} \\text{rC}^3 \\text{rP}^{11/2} \\omega ^3 (-\\sin (\\omega  (\\text{rC}+\\text{rP}-t)+\\text{$\\phi $P})-\\sin (\\text{$\\phi $P}-\\omega  (\\text{rC}-\\text{rP}+t))+\\text{rP} \\omega  (\\cos (\\omega  (\\text{rC}+\\text{rP}-t)+\\text{$\\phi $P})+\\cos (\\text{$\\phi $P}-\\omega  (\\text{rC}-\\text{rP}+t))))-60 \\sqrt{2} \\text{rC}^2 \\text{rP}^{11/2} \\omega ^2 (\\text{rP} \\omega  (\\sin (\\omega  (\\text{rC}+\\text{rP}-t)+\\text{$\\phi $P})-\\sin (\\text{$\\phi $P}-\\omega  (\\text{rC}-\\text{rP}+t)))+\\cos (\\omega  (\\text{rC}+\\text{rP}-t)+\\text{$\\phi $P})-\\cos (\\text{$\\phi $P}-\\omega  (\\text{rC}-\\text{rP}+t)))+210 \\sqrt{2} \\text{rC} \\text{rP}^{11/2} \\omega  (-\\sin (\\omega  (\\text{rC}+\\text{rP}-t)+\\text{$\\phi $P})-\\sin (\\text{$\\phi $P}-\\omega  (\\text{rC}-\\text{rP}+t))+\\text{rP} \\omega  (\\cos (\\omega  (\\text{rC}+\\text{rP}-t)+\\text{$\\phi $P})+\\cos (\\text{$\\phi $P}-\\omega  (\\text{rC}-\\text{rP}+t))))+945 \\sqrt{2} \\text{rP}^{11/2} (\\text{rP} \\omega  (\\sin (\\omega  (\\text{rC}+\\text{rP}-t)+\\text{$\\phi $P})-\\sin (\\text{$\\phi $P}-\\omega  (\\text{rC}-\\text{rP}+t)))+\\cos (\\omega  (\\text{rC}+\\text{rP}-t)+\\text{$\\phi $P})-\\cos (\\text{$\\phi $P}-\\omega  (\\text{rC}-\\text{rP}+t)))\\right)}{128 \\text{rC}^4 \\text{rP}^{15/2} \\omega ^7}\""
   ]
  },
  {
   "cell_type": "code",
   "execution_count": 29,
   "metadata": {},
   "outputs": [],
   "source": [
    "# Format the LaTeX string\n",
    "def format_latex_string(input_str, replacements):\n",
    "    latex_str = input_str\n",
    "    for key, value in replacements.items():\n",
    "        latex_str = latex_str.replace(key, value)\n",
    "\n",
    "    # Remove all whitespace\n",
    "    latex_str = latex_str.replace(\" \", \"\")\n",
    "\n",
    "    return latex_str\n",
    "\n",
    "# Define the replacements\n",
    "replacements = {\n",
    "    r\"\\text{BbarYP}\": \"\",\n",
    "    r\"\\text{rC}\": \"r_{c}\",\n",
    "    r\"\\text{rP}\": \"r_{p}\",\n",
    "    r\"\\omega\": r\"\\w\",\n",
    "    r\"\\text{$\\theta $P}\": r\"\\theta_{p}\",\n",
    "    r\"\\text{$\\phi $P}\": r\"\\phi_{p}\"\n",
    "}"
   ]
  },
  {
   "cell_type": "code",
   "execution_count": 30,
   "metadata": {},
   "outputs": [
    {
     "name": "stdout",
     "output_type": "stream",
     "text": [
      "\\frac{\\left(r_{c}^{11/2}\\left(3\\sqrt{2}\\left(r_{p}\\w\\left(\\left(12r_{p}^2\\w^2-245\\right)\\sin(2r_{p}\\w-t\\w+\\phi_{p})+\\left(32r_{p}^4\\w^4-28r_{p}^2\\w^2+385\\right)\\sin(\\phi_{p}-t\\w)\\right)+\\left(8r_{p}^4\\w^4-90r_{p}^2\\w^2+315\\right)\\cos(\\phi_{p}-t\\w)+\\left(8r_{p}^4\\w^4-50r_{p}^2\\w^2-315\\right)\\cos(2r_{p}\\w-t\\w+\\phi_{p})\\right)-64\\sqrt{\\pi}r_{p}^{13/2}\\w^{13/2}\\cos(r_{p}\\w)(\\sin(\\phi_{p}-t\\w)+\\cos(\\phi_{p}-t\\w))\\right)+32\\sqrt{\\pi}r_{c}^5r_{p}^{13/2}\\w^7\\sqrt{\\frac{r_{c}}{\\w}}\\sin(\\w(r_{p}-t)+\\phi_{p})+32\\sqrt{\\pi}r_{c}^5r_{p}^{13/2}\\w^7\\sqrt{\\frac{r_{c}}{\\w}}\\sin(\\phi_{p}-\\w(r_{p}+t))+32\\sqrt{\\pi}r_{c}^5r_{p}^{13/2}\\w^7\\sqrt{\\frac{r_{c}}{\\w}}\\cos(\\w(r_{p}-t)+\\phi_{p})+32\\sqrt{\\pi}r_{c}^5r_{p}^{13/2}\\w^7\\sqrt{\\frac{r_{c}}{\\w}}\\cos(\\phi_{p}-\\w(r_{p}+t))+48\\sqrt{2}r_{c}^4r_{p}^{11/2}\\w^4(r_{p}\\w(\\sin(\\w(r_{c}+r_{p}-t)+\\phi_{p})-\\sin(\\phi_{p}-\\w(r_{c}-r_{p}+t)))+\\cos(\\w(r_{c}+r_{p}-t)+\\phi_{p})-\\cos(\\phi_{p}-\\w(r_{c}-r_{p}+t)))-24\\sqrt{2}r_{c}^3r_{p}^{11/2}\\w^3(-\\sin(\\w(r_{c}+r_{p}-t)+\\phi_{p})-\\sin(\\phi_{p}-\\w(r_{c}-r_{p}+t))+r_{p}\\w(\\cos(\\w(r_{c}+r_{p}-t)+\\phi_{p})+\\cos(\\phi_{p}-\\w(r_{c}-r_{p}+t))))-60\\sqrt{2}r_{c}^2r_{p}^{11/2}\\w^2(r_{p}\\w(\\sin(\\w(r_{c}+r_{p}-t)+\\phi_{p})-\\sin(\\phi_{p}-\\w(r_{c}-r_{p}+t)))+\\cos(\\w(r_{c}+r_{p}-t)+\\phi_{p})-\\cos(\\phi_{p}-\\w(r_{c}-r_{p}+t)))+210\\sqrt{2}r_{c}r_{p}^{11/2}\\w(-\\sin(\\w(r_{c}+r_{p}-t)+\\phi_{p})-\\sin(\\phi_{p}-\\w(r_{c}-r_{p}+t))+r_{p}\\w(\\cos(\\w(r_{c}+r_{p}-t)+\\phi_{p})+\\cos(\\phi_{p}-\\w(r_{c}-r_{p}+t))))+945\\sqrt{2}r_{p}^{11/2}(r_{p}\\w(\\sin(\\w(r_{c}+r_{p}-t)+\\phi_{p})-\\sin(\\phi_{p}-\\w(r_{c}-r_{p}+t)))+\\cos(\\w(r_{c}+r_{p}-t)+\\phi_{p})-\\cos(\\phi_{p}-\\w(r_{c}-r_{p}+t)))\\right)}{128r_{c}^4r_{p}^{15/2}\\w^7}\n"
     ]
    }
   ],
   "source": [
    "latex_str = format_latex_string(input_str, replacements)\n",
    "print(latex_str)"
   ]
  }
 ],
 "metadata": {
  "kernelspec": {
   "display_name": "Python 3",
   "language": "python",
   "name": "python3"
  },
  "language_info": {
   "codemirror_mode": {
    "name": "ipython",
    "version": 3
   },
   "file_extension": ".py",
   "mimetype": "text/x-python",
   "name": "python",
   "nbconvert_exporter": "python",
   "pygments_lexer": "ipython3",
   "version": "3.10.2"
  }
 },
 "nbformat": 4,
 "nbformat_minor": 2
}

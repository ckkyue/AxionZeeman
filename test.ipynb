{
 "cells": [
  {
   "cell_type": "markdown",
   "metadata": {},
   "source": [
    "cd Desktop/Axion\\ Zeeman/AxionZeeman ; git add . ; git commit -m \"In progress\" ; git push origin main"
   ]
  },
  {
   "cell_type": "markdown",
   "metadata": {},
   "source": [
    "cd Library/Mathematica/FrontEnd ; rm init.m"
   ]
  },
  {
   "cell_type": "code",
   "execution_count": 1,
   "metadata": {},
   "outputs": [],
   "source": [
    "B1DCoreSph2 = r\"-\\frac{8 a \\text{BbarYP} \\sqrt{\\rho } \\text{rC}^2 \\epsilon  \\sin (m \\text{rC}) \\cos (m (\\text{rP}-t)+\\text{$\\phi $P})}{m \\text{rP} \\left(a \\text{rC}^2+1\\right)^6}\"\n",
    "B1DCoreSph3 = r\"\\frac{8 a \\text{BbarYP} \\sqrt{\\rho } \\text{rC}^2 \\epsilon  \\cos (\\text{$\\theta $P}) \\sin (m \\text{rC}) \\sin (m (\\text{rP}-t)+\\text{$\\phi $P})}{m \\text{rP} \\left(a \\text{rC}^2+1\\right)^6}\"\n",
    "B1DTailSph2 = r\"\\frac{3 \\text{BbarYP} \\epsilon  \\sqrt{\\frac{\\rho }{\\left(a \\text{rC}^2+1\\right)^8}} \\sin (m \\text{rC}) \\cos (m (\\text{rP}-t)+\\text{$\\phi $P})}{2 m \\text{rP}}\"\n",
    "B1DTailSph3 = r\"-\\frac{3 \\text{BbarYP} \\epsilon  \\cos (\\text{$\\theta $P}) \\sqrt{\\frac{\\rho }{\\left(a \\text{rC}^2+1\\right)^8}} \\sin (m \\text{rC}) \\sin (m (\\text{rP}-t)+\\text{$\\phi $P})}{2 m \\text{rP}}\""
   ]
  },
  {
   "cell_type": "code",
   "execution_count": 2,
   "metadata": {},
   "outputs": [],
   "source": [
    "E1DCoreSph2 = r\"-\\frac{\\sqrt{\\rho } \\text{rC} \\epsilon  \\cos (m \\text{rC}) \\cos (m (\\text{rP}-t)+\\text{$\\phi $P})}{\\sqrt{2} \\text{rP} \\left(a \\text{rC}^2+1\\right)^4}\"\n",
    "E1DCoreSph3 = r\"\\frac{\\sqrt{\\rho } \\text{rC} \\epsilon  \\cos (\\text{$\\theta $P}) \\cos (m \\text{rC}) \\sin (m (\\text{rP}-t)+\\text{$\\phi $P})}{\\sqrt{2} \\text{rP} \\left(a \\text{rC}^2+1\\right)^4}\"\n",
    "E1DTailSph2 = r\"\\frac{\\text{rC} \\epsilon  \\sqrt{\\frac{\\rho }{\\left(a \\text{rC}^2+1\\right)^8}} \\left(-2 \\sqrt{\\frac{\\text{rC}}{\\text{rP}}} \\cos (m t-\\text{$\\phi $P})+\\cos (m (\\text{rC}-\\text{rP}+t)-\\text{$\\phi $P})+\\cos (m (\\text{rC}+\\text{rP}-t)+\\text{$\\phi $P})\\right)}{2 \\sqrt{2} \\text{rP}}\"\n",
    "E1DTailSph3 = r\"-\\frac{\\text{rC} \\epsilon  \\cos (\\text{$\\theta $P}) \\sqrt{\\frac{\\rho }{\\left(a \\text{rC}^2+1\\right)^8}} \\left(\\sqrt{\\frac{\\text{rC}}{\\text{rP}}} \\sin (m t-\\text{$\\phi $P})+\\cos (m \\text{rC}) \\sin (m (\\text{rP}-t)+\\text{$\\phi $P})\\right)}{\\sqrt{2} \\text{rP}}\""
   ]
  },
  {
   "cell_type": "code",
   "execution_count": 3,
   "metadata": {},
   "outputs": [],
   "source": [
    "# Format the LaTeX string\n",
    "def format_latex_string(input_str, replacements):\n",
    "    # Initialize the string\n",
    "    latex_str = input_str\n",
    "\n",
    "    for key, value in replacements.items():\n",
    "        latex_str = latex_str.replace(key, value)\n",
    "\n",
    "    # Remove all whitespace\n",
    "    latex_str = latex_str.replace(\" \", \"\")\n",
    "\n",
    "    return latex_str\n",
    "\n",
    "# Define the replacements\n",
    "replacements = {\n",
    "    r\"\\text{BbarYP}\": \"\",\n",
    "    r\"\\epsilon\": r\"\\e\",\n",
    "    \"m\": \"m_{D}\",\n",
    "    r\"\\text{rC}\": r\"r_{c}\",\n",
    "    r\"\\text{rP}\": r\"r_{p}\",\n",
    "    r\"\\text{$\\theta $P}\": r\"\\theta_{p}\",\n",
    "    r\"\\text{$\\phi $P}\": r\"\\phi_{p}\"\n",
    "}"
   ]
  },
  {
   "cell_type": "code",
   "execution_count": 4,
   "metadata": {},
   "outputs": [
    {
     "name": "stdout",
     "output_type": "stream",
     "text": [
      "-\\frac{8a\\sqrt{\\rho}r_{c}^2\\e\\sin(m_{D}r_{c})\\cos(m_{D}(r_{p}-t)+\\phi_{p})}{m_{D}r_{p}\\left(ar_{c}^2+1\\right)^6}\n",
      "\\frac{3\\e\\sqrt{\\frac{\\rho}{\\left(ar_{c}^2+1\\right)^8}}\\sin(m_{D}r_{c})\\cos(m_{D}(r_{p}-t)+\\phi_{p})}{2m_{D}r_{p}}\n",
      "\\frac{8a\\sqrt{\\rho}r_{c}^2\\e\\cos(\\theta_{p})\\sin(m_{D}r_{c})\\sin(m_{D}(r_{p}-t)+\\phi_{p})}{m_{D}r_{p}\\left(ar_{c}^2+1\\right)^6}\n",
      "-\\frac{3\\e\\cos(\\theta_{p})\\sqrt{\\frac{\\rho}{\\left(ar_{c}^2+1\\right)^8}}\\sin(m_{D}r_{c})\\sin(m_{D}(r_{p}-t)+\\phi_{p})}{2m_{D}r_{p}}\n"
     ]
    }
   ],
   "source": [
    "# Iterate over all components of the magnetic field\n",
    "for input_str in [B1DCoreSph2, B1DTailSph2, B1DCoreSph3, B1DTailSph3]:\n",
    "    latex_str = format_latex_string(input_str, replacements)\n",
    "    print(latex_str)"
   ]
  },
  {
   "cell_type": "code",
   "execution_count": 5,
   "metadata": {},
   "outputs": [
    {
     "name": "stdout",
     "output_type": "stream",
     "text": [
      "-\\frac{\\sqrt{\\rho}r_{c}\\e\\cos(m_{D}r_{c})\\cos(m_{D}(r_{p}-t)+\\phi_{p})}{\\sqrt{2}r_{p}\\left(ar_{c}^2+1\\right)^4}\n",
      "\\frac{r_{c}\\e\\sqrt{\\frac{\\rho}{\\left(ar_{c}^2+1\\right)^8}}\\left(-2\\sqrt{\\frac{r_{c}}{r_{p}}}\\cos(m_{D}t-\\phi_{p})+\\cos(m_{D}(r_{c}-r_{p}+t)-\\phi_{p})+\\cos(m_{D}(r_{c}+r_{p}-t)+\\phi_{p})\\right)}{2\\sqrt{2}r_{p}}\n",
      "\\frac{\\sqrt{\\rho}r_{c}\\e\\cos(\\theta_{p})\\cos(m_{D}r_{c})\\sin(m_{D}(r_{p}-t)+\\phi_{p})}{\\sqrt{2}r_{p}\\left(ar_{c}^2+1\\right)^4}\n",
      "-\\frac{r_{c}\\e\\cos(\\theta_{p})\\sqrt{\\frac{\\rho}{\\left(ar_{c}^2+1\\right)^8}}\\left(\\sqrt{\\frac{r_{c}}{r_{p}}}\\sin(m_{D}t-\\phi_{p})+\\cos(m_{D}r_{c})\\sin(m_{D}(r_{p}-t)+\\phi_{p})\\right)}{\\sqrt{2}r_{p}}\n"
     ]
    }
   ],
   "source": [
    "# Iterate over all components of the electric field\n",
    "for input_str in [E1DCoreSph2, E1DTailSph2, E1DCoreSph3, E1DTailSph3]:\n",
    "    latex_str = format_latex_string(input_str, replacements)\n",
    "    print(latex_str)"
   ]
  },
  {
   "cell_type": "code",
   "execution_count": 6,
   "metadata": {},
   "outputs": [],
   "source": [
    "from zeeman import *\n",
    "\n",
    "# Define the imaginary unit\n",
    "j = 1j\n",
    "\n",
    "# Retrieve physical constants\n",
    "c = physical_constants[\"speed of light in vacuum\"][0]\n",
    "e_au = physical_constants[\"atomic unit of charge\"][0]\n",
    "g_e = physical_constants[\"electron g factor\"][0]\n",
    "g_p = physical_constants[\"proton g factor\"][0]\n",
    "M_s = M_sun.value\n",
    "m_pl = (c * hbar / (8 * np.pi * G))**(1 / 2) * c**2 / e_au # Reduced Planck mass (eV)\n",
    "mu_B = physical_constants[\"Bohr magneton\"][0]\n",
    "r_e = physical_constants[\"Bohr radius\"][0]\n",
    "\n",
    "# Conversion factors\n",
    "CNu = (4 * np.pi * alpha)**(1 / 2) / e_au\n",
    "kg_to_eV = c**2 / e_au\n",
    "m_to_eVminus1 = e_au / hbar / c\n",
    "J_to_eV = 1 / e_au\n",
    "pc_to_m = u.pc.to(u.m)\n",
    "s_to_eVminus1 = e_au / hbar\n",
    "T_to_eV2 = kg_to_eV / CNu / s_to_eVminus1\n",
    "\n",
    "# Parameters of Galactic Centre\n",
    "dist_gc = 8 * 1e3 * u.pc # Distance to Galactic Centre\n",
    "l_gc = 0 * u.deg # Galactic longitude\n",
    "b_gc = 0 * u.deg # Galactic latitude\n",
    "\n",
    "# Create SkyCoord object for Galactic Centre and convert to Cartesian\n",
    "coord_gc = SkyCoord(l=l_gc, b=b_gc, distance=dist_gc, frame=\"galactic\")\n",
    "cart_gc = coord_gc.icrs.cartesian\n",
    "\n",
    "# Core radius (pc)\n",
    "r_c_pc = 180\n",
    "r_c = r_c_pc * pc_to_m * m_to_eVminus1\n",
    "\n",
    "# Scaling constants of Tom's profile (arXiv: 1406.6586v1)\n",
    "a = (0.091 / r_c_pc**2) * (pc_to_m * m_to_eVminus1)**(-2) # Scaling constant of axion (eV^2)"
   ]
  },
  {
   "cell_type": "code",
   "execution_count": 7,
   "metadata": {},
   "outputs": [
    {
     "name": "stdout",
     "output_type": "stream",
     "text": [
      "The distance of Earth from Galactic Centre is 1.25e+27eV^-1.\n",
      "The magnitude of internal magnetic field is roughly 12.52T.\n",
      "The magnitude of background magnetic field is 1.95e-08eV^2.\n",
      "Proportionality constant between dark photon and axion: 2.20e+11.\n"
     ]
    }
   ],
   "source": [
    "# Define the paths for the folders\n",
    "folders = [\"Figure\"]\n",
    "\n",
    "# Check if the folders exist, create them if they do not\n",
    "for folder in folders:\n",
    "    if not os.path.exists(folder):\n",
    "        os.makedirs(folder)\n",
    "\n",
    "# Calculate the distance of Earth from Galactic Centre (pc)\n",
    "r_p_pc = np.linalg.norm(cart_gc.xyz)\n",
    "\n",
    "# Calculate distance of Earth from Galactic Centre (eV^-1)\n",
    "r_p = r_p_pc.value * pc_to_m * m_to_eVminus1\n",
    "print(f\"The distance of Earth from Galactic Centre is {r_p:.2e}eV^-1.\")\n",
    "\n",
    "# Calculate the internal magnetic field of a hydrogen atom\n",
    "B_int = 1 / (4 * np.pi * epsilon_0) * e_au / (m_e * c**2 * r_e**3) * hbar\n",
    "print(f\"The magnitude of internal magnetic field is roughly {B_int:.2f}T.\")\n",
    "\n",
    "# Specify the potential and particle types\n",
    "potential_type = \"flat\" # sech or flat\n",
    "particle_type = \"dark photon\" # axion or dark photon\n",
    "\n",
    "# Background magnetic field (T)\n",
    "B_barT = 1e-10\n",
    "B_bar = B_barT * T_to_eV2\n",
    "print(f\"The magnitude of background magnetic field is {B_bar:.2e}eV^2.\")\n",
    "\n",
    "# Set parameters based on the potential type\n",
    "f, m_a, m_D = gen_params(potential_type)\n",
    "\n",
    "# Coupling strength\n",
    "g_ac = calculate_gac(potential_type, f) # Axion-photon coupling strength\n",
    "epsilon = 1e-3 # Photon-dark photon coupling strength, 1e-5 to 1e-3\n",
    "\n",
    "if particle_type == \"dark photon\":\n",
    "    # Print the proportionality constant between dark photon and axion\n",
    "    print(f\"Proportionality constant between dark photon and axion: {epsilon * m_D / (g_ac * B_bar):.2e}.\")\n",
    "\n",
    "# Set mass and oscillation frequency based on particle type\n",
    "if particle_type == \"axion\":\n",
    "    m, omega = m_a, m_a\n",
    "elif particle_type == \"dark photon\":\n",
    "    m, omega = m_D, m_D"
   ]
  }
 ],
 "metadata": {
  "kernelspec": {
   "display_name": "Python 3",
   "language": "python",
   "name": "python3"
  },
  "language_info": {
   "codemirror_mode": {
    "name": "ipython",
    "version": 3
   },
   "file_extension": ".py",
   "mimetype": "text/x-python",
   "name": "python",
   "nbconvert_exporter": "python",
   "pygments_lexer": "ipython3",
   "version": "3.10.2"
  }
 },
 "nbformat": 4,
 "nbformat_minor": 2
}
